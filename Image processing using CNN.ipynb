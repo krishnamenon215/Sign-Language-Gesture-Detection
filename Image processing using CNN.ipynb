{
 "cells": [
  {
   "cell_type": "markdown",
   "id": "fe699405",
   "metadata": {},
   "source": [
    "Import of libraries"
   ]
  },
  {
   "cell_type": "code",
   "execution_count": 1,
   "id": "c1f801a3",
   "metadata": {},
   "outputs": [],
   "source": [
    "import numpy as np\n",
    "import pandas as pd\n",
    "import os\n",
    "import matplotlib.pyplot as plt"
   ]
  },
  {
   "cell_type": "code",
   "execution_count": 2,
   "id": "df007294",
   "metadata": {},
   "outputs": [],
   "source": [
    "import tensorflow as tf\n",
    "import cv2\n",
    "from tensorflow.keras.utils import to_categorical\n",
    "from tensorflow.keras.preprocessing.image import load_img, img_to_array\n",
    "from tensorflow.python.keras.preprocessing.image import ImageDataGenerator\n",
    "from keras.models import Sequential,save_model\n",
    "from keras.layers import Conv2D,MaxPooling2D,Flatten,Dense,Dropout"
   ]
  },
  {
   "cell_type": "code",
   "execution_count": 3,
   "id": "1c66477c",
   "metadata": {},
   "outputs": [],
   "source": [
    "from sklearn.metrics import classification_report, log_loss, accuracy_score\n",
    "from sklearn.model_selection import train_test_split\n",
    "from tqdm import tqdm\n",
    "import random"
   ]
  },
  {
   "cell_type": "code",
   "execution_count": 4,
   "id": "2a14d3df",
   "metadata": {},
   "outputs": [],
   "source": [
    "import dask.bag as db\n",
    "from dask.diagnostics import ProgressBar\n",
    "from PIL import Image"
   ]
  },
  {
   "cell_type": "code",
   "execution_count": 5,
   "id": "39227132",
   "metadata": {},
   "outputs": [],
   "source": [
    "from keras import regularizers\n",
    "import pickle\n",
    "import joblib\n",
    "import uvicorn\n",
    "from fastapi import FastAPI"
   ]
  },
  {
   "cell_type": "markdown",
   "id": "6cf1d969",
   "metadata": {},
   "source": [
    "Getting the working directory"
   ]
  },
  {
   "cell_type": "code",
   "execution_count": 6,
   "id": "8f265d96",
   "metadata": {},
   "outputs": [
    {
     "data": {
      "text/plain": [
       "'C:\\\\Users\\\\devel\\\\OneDrive\\\\Documents\\\\Notes\\\\SEM-2\\\\AI-and-ML-Lab-2404\\\\Project'"
      ]
     },
     "execution_count": 6,
     "metadata": {},
     "output_type": "execute_result"
    }
   ],
   "source": [
    "os.getcwd()"
   ]
  },
  {
   "cell_type": "code",
   "execution_count": 6,
   "id": "e87b3a5a",
   "metadata": {},
   "outputs": [],
   "source": [
    "image_dir='C:\\\\Users\\\\devel\\\\OneDrive\\\\Documents\\\\Notes\\\\SEM-2\\\\AI-and-ML-Lab-2404\\\\Project\\\\Images-Set\\\\Gesture Image Data'"
   ]
  },
  {
   "cell_type": "markdown",
   "id": "cb8243ba",
   "metadata": {},
   "source": [
    "Getting the image folders"
   ]
  },
  {
   "cell_type": "code",
   "execution_count": 7,
   "id": "e432c510",
   "metadata": {},
   "outputs": [
    {
     "data": {
      "text/plain": [
       "['0',\n",
       " '1',\n",
       " '2',\n",
       " '3',\n",
       " '4',\n",
       " '5',\n",
       " '6',\n",
       " '7',\n",
       " '8',\n",
       " '9',\n",
       " 'A',\n",
       " 'B',\n",
       " 'C',\n",
       " 'D',\n",
       " 'E',\n",
       " 'F',\n",
       " 'G',\n",
       " 'H',\n",
       " 'I',\n",
       " 'J',\n",
       " 'K',\n",
       " 'L',\n",
       " 'M',\n",
       " 'N',\n",
       " 'O',\n",
       " 'P',\n",
       " 'Q',\n",
       " 'R',\n",
       " 'S',\n",
       " 'T',\n",
       " 'U',\n",
       " 'V',\n",
       " 'W',\n",
       " 'X',\n",
       " 'Y',\n",
       " 'Z',\n",
       " '_']"
      ]
     },
     "execution_count": 7,
     "metadata": {},
     "output_type": "execute_result"
    }
   ],
   "source": [
    "os.listdir(image_dir)"
   ]
  },
  {
   "cell_type": "code",
   "execution_count": 8,
   "id": "4ee0e8dd",
   "metadata": {},
   "outputs": [],
   "source": [
    "img_dir_names=os.listdir(image_dir)"
   ]
  },
  {
   "cell_type": "code",
   "execution_count": 9,
   "id": "ab38fecf",
   "metadata": {},
   "outputs": [
    {
     "name": "stdout",
     "output_type": "stream",
     "text": [
      "['0', '1', '2', '3', '4', '5', '6', '7', '8', '9', 'A', 'B', 'C', 'D', 'E', 'F', 'G', 'H', 'I', 'J', 'K', 'L', 'M', 'N', 'O', 'P', 'Q', 'R', 'S', 'T', 'U', 'V', 'W', 'X', 'Y', 'Z', '_']\n"
     ]
    }
   ],
   "source": [
    "print(img_dir_names)"
   ]
  },
  {
   "cell_type": "code",
   "execution_count": 10,
   "id": "38e796b5",
   "metadata": {},
   "outputs": [],
   "source": [
    "no_of_dir=list(range(len(img_dir_names)))"
   ]
  },
  {
   "cell_type": "code",
   "execution_count": 11,
   "id": "18332413",
   "metadata": {},
   "outputs": [
    {
     "name": "stdout",
     "output_type": "stream",
     "text": [
      "[0, 1, 2, 3, 4, 5, 6, 7, 8, 9, 10, 11, 12, 13, 14, 15, 16, 17, 18, 19, 20, 21, 22, 23, 24, 25, 26, 27, 28, 29, 30, 31, 32, 33, 34, 35, 36]\n"
     ]
    }
   ],
   "source": [
    "print(no_of_dir)"
   ]
  },
  {
   "cell_type": "markdown",
   "id": "fddab68b",
   "metadata": {},
   "source": [
    "Mapping of directories  and converting to dictionaries using zip function"
   ]
  },
  {
   "cell_type": "code",
   "execution_count": 12,
   "id": "33d65d94",
   "metadata": {},
   "outputs": [],
   "source": [
    "direct_map=dict(zip(img_dir_names,no_of_dir)) "
   ]
  },
  {
   "cell_type": "code",
   "execution_count": 13,
   "id": "5b9c0c6c",
   "metadata": {},
   "outputs": [
    {
     "name": "stdout",
     "output_type": "stream",
     "text": [
      "{'0': 0, '1': 1, '2': 2, '3': 3, '4': 4, '5': 5, '6': 6, '7': 7, '8': 8, '9': 9, 'A': 10, 'B': 11, 'C': 12, 'D': 13, 'E': 14, 'F': 15, 'G': 16, 'H': 17, 'I': 18, 'J': 19, 'K': 20, 'L': 21, 'M': 22, 'N': 23, 'O': 24, 'P': 25, 'Q': 26, 'R': 27, 'S': 28, 'T': 29, 'U': 30, 'V': 31, 'W': 32, 'X': 33, 'Y': 34, 'Z': 35, '_': 36}\n"
     ]
    }
   ],
   "source": [
    "print(direct_map)"
   ]
  },
  {
   "cell_type": "markdown",
   "id": "1ade3788",
   "metadata": {},
   "source": [
    "Reverse map for model validation"
   ]
  },
  {
   "cell_type": "code",
   "execution_count": 14,
   "id": "36172b88",
   "metadata": {},
   "outputs": [],
   "source": [
    "rev_map=dict(zip(no_of_dir,img_dir_names)) "
   ]
  },
  {
   "cell_type": "code",
   "execution_count": 15,
   "id": "22342622",
   "metadata": {},
   "outputs": [
    {
     "name": "stdout",
     "output_type": "stream",
     "text": [
      "{0: '0', 1: '1', 2: '2', 3: '3', 4: '4', 5: '5', 6: '6', 7: '7', 8: '8', 9: '9', 10: 'A', 11: 'B', 12: 'C', 13: 'D', 14: 'E', 15: 'F', 16: 'G', 17: 'H', 18: 'I', 19: 'J', 20: 'K', 21: 'L', 22: 'M', 23: 'N', 24: 'O', 25: 'P', 26: 'Q', 27: 'R', 28: 'S', 29: 'T', 30: 'U', 31: 'V', 32: 'W', 33: 'X', 34: 'Y', 35: 'Z', 36: '_'}\n"
     ]
    }
   ],
   "source": [
    "print(rev_map)"
   ]
  },
  {
   "cell_type": "code",
   "execution_count": 16,
   "id": "eece14ee",
   "metadata": {},
   "outputs": [],
   "source": [
    "A_img_path='C:\\\\Users\\\\devel\\\\OneDrive\\\\Documents\\\\Notes\\\\SEM-2\\\\AI-and-ML-Lab-2404\\\\Project\\\\Images-Set\\\\Gesture Image Data\\\\A\\\\18.jpg'"
   ]
  },
  {
   "cell_type": "markdown",
   "id": "ae7a9db6",
   "metadata": {},
   "source": [
    "Reading image using cv2"
   ]
  },
  {
   "cell_type": "code",
   "execution_count": 17,
   "id": "0e2f8679",
   "metadata": {},
   "outputs": [],
   "source": [
    "sample_image=cv2.imread(A_img_path)"
   ]
  },
  {
   "cell_type": "code",
   "execution_count": 18,
   "id": "9999974c",
   "metadata": {},
   "outputs": [
    {
     "name": "stdout",
     "output_type": "stream",
     "text": [
      "(50, 50, 3)\n"
     ]
    }
   ],
   "source": [
    "print(sample_image.shape)"
   ]
  },
  {
   "cell_type": "code",
   "execution_count": 19,
   "id": "8334d957",
   "metadata": {},
   "outputs": [
    {
     "data": {
      "text/plain": [
       "<matplotlib.image.AxesImage at 0x21e24033430>"
      ]
     },
     "execution_count": 19,
     "metadata": {},
     "output_type": "execute_result"
    },
    {
     "data": {
      "image/png": "[encoded data removed]",
      "text/plain": [
       "<Figure size 432x288 with 1 Axes>"
      ]
     },
     "metadata": {
      "needs_background": "light"
     },
     "output_type": "display_data"
    }
   ],
   "source": [
    "plt.imshow(cv2.cvtColor(sample_image, cv2.COLOR_BGR2RGB))"
   ]
  },
  {
   "cell_type": "markdown",
   "id": "c025b9c0",
   "metadata": {},
   "source": [
    "Storing the images and directory images in variables"
   ]
  },
  {
   "cell_type": "code",
   "execution_count": 20,
   "id": "a74aed40",
   "metadata": {},
   "outputs": [],
   "source": [
    "img_data=[]"
   ]
  },
  {
   "cell_type": "code",
   "execution_count": 21,
   "id": "158135a7",
   "metadata": {},
   "outputs": [],
   "source": [
    "img_name=[]"
   ]
  },
  {
   "cell_type": "code",
   "execution_count": 22,
   "id": "16c94e40",
   "metadata": {},
   "outputs": [],
   "source": [
    "count=0"
   ]
  },
  {
   "cell_type": "code",
   "execution_count": 23,
   "id": "5687cb85",
   "metadata": {},
   "outputs": [
    {
     "name": "stderr",
     "output_type": "stream",
     "text": [
      "100%|██████████| 37/37 [11:17<00:00, 18.32s/it]\n"
     ]
    }
   ],
   "source": [
    "for dataname in tqdm(os.listdir(image_dir)):\n",
    "    img_path=os.path.join(image_dir,dataname)\n",
    "    for myimage in os.listdir(img_path):\n",
    "        image=cv2.imread(os.path.join(img_path,myimage))\n",
    "        img_data+=[image]\n",
    "        img_name+=[count]\n",
    "    count=count+1"
   ]
  },
  {
   "cell_type": "code",
   "execution_count": null,
   "id": "ac019cb8",
   "metadata": {},
   "outputs": [],
   "source": [
    "type(img_data)"
   ]
  },
  {
   "cell_type": "code",
   "execution_count": null,
   "id": "8d2523bf",
   "metadata": {},
   "outputs": [],
   "source": [
    "print(count)"
   ]
  },
  {
   "cell_type": "code",
   "execution_count": 24,
   "id": "9e5370ca",
   "metadata": {},
   "outputs": [],
   "source": [
    "imdata=np.array(img_data)"
   ]
  },
  {
   "cell_type": "code",
   "execution_count": null,
   "id": "309c37eb",
   "metadata": {},
   "outputs": [],
   "source": [
    "imdata.shape"
   ]
  },
  {
   "cell_type": "code",
   "execution_count": 25,
   "id": "03be9b05",
   "metadata": {},
   "outputs": [],
   "source": [
    "imname=np.array(img_name)"
   ]
  },
  {
   "cell_type": "code",
   "execution_count": null,
   "id": "dc400e4b",
   "metadata": {},
   "outputs": [],
   "source": [
    "print(pd.Series(imname).value_counts())"
   ]
  },
  {
   "cell_type": "markdown",
   "id": "8e361092",
   "metadata": {},
   "source": [
    "EDA for Images"
   ]
  },
  {
   "cell_type": "code",
   "execution_count": null,
   "id": "1516de7f",
   "metadata": {},
   "outputs": [],
   "source": [
    "direct_map"
   ]
  },
  {
   "cell_type": "code",
   "execution_count": null,
   "id": "3b6f0e82",
   "metadata": {},
   "outputs": [],
   "source": [
    "plt.bar(direct_map.keys(),pd.Series(imname).value_counts(),width=0.8)\n",
    "plt.title(\"Number of Images by signs\")\n",
    "plt.xlabel('Sign Name')\n",
    "plt.ylabel('No:of Images')"
   ]
  },
  {
   "cell_type": "code",
   "execution_count": null,
   "id": "e44dc5e8",
   "metadata": {},
   "outputs": [],
   "source": [
    "fig, axes = plt.subplots(1,3, figsize=(12,12))\n",
    "colors = ['red', 'green', 'blue']\n",
    "for i, ax in enumerate(axes):\n",
    "    ax.imshow(imdata[0][:,:,i], cmap='gray')\n",
    "    ax.set_title(colors[i]+' channel'), ax.axis('off')\n",
    "plt.show()"
   ]
  },
  {
   "cell_type": "code",
   "execution_count": null,
   "id": "da63e1ef",
   "metadata": {},
   "outputs": [],
   "source": [
    "im_ob_chnl=[]"
   ]
  },
  {
   "cell_type": "code",
   "execution_count": null,
   "id": "bfe313ae",
   "metadata": {},
   "outputs": [],
   "source": [
    "for i in range(0,len(imdata)):\n",
    "    a=imdata[i]\n",
    "    im_ob_chnl.append(a)"
   ]
  },
  {
   "cell_type": "code",
   "execution_count": null,
   "id": "304045c9",
   "metadata": {},
   "outputs": [],
   "source": [
    "import seaborn as sns"
   ]
  },
  {
   "cell_type": "code",
   "execution_count": null,
   "id": "db27dcd3",
   "metadata": {},
   "outputs": [],
   "source": [
    "fig, axes = plt.subplots(1,3, figsize=(18,6))\n",
    "for i, ax in enumerate(axes):\n",
    "    df = im_ob_chnl[i].ravel()\n",
    "    sns.histplot(df, bins=np.arange(0,255), ax=ax)\n",
    "    ax.set_title(colors[i]+' channel')\n",
    "plt.show()"
   ]
  },
  {
   "cell_type": "code",
   "execution_count": null,
   "id": "6fcc2933",
   "metadata": {
    "scrolled": true
   },
   "outputs": [],
   "source": [
    "std_dev_obj = []\n",
    "fig, axes = plt.subplots(2,3, figsize=(18,6))\n",
    "for i, ax in enumerate(axes.flat):\n",
    "    img_matrix = imdata[i].ravel()\n",
    "    std_dev = np.std(img_matrix)\n",
    "    std_dev_obj.append(std_dev)\n",
    "    sns.histplot(img_matrix, bins=np.arange(0,1, 0.01), ax=ax)\n",
    "    ax.text(0.05,0.85, f'std dev: {std_dev:.2f}', size=15, transform = ax.transAxes)\n",
    "    ax.set_title(f'img {i}') \n",
    "plt.suptitle('Histograms for images')\n",
    "plt.tight_layout()\n",
    "plt.show()"
   ]
  },
  {
   "cell_type": "markdown",
   "id": "9855d8c0",
   "metadata": {},
   "source": [
    "Model Creation"
   ]
  },
  {
   "cell_type": "code",
   "execution_count": 26,
   "id": "19892bd6",
   "metadata": {},
   "outputs": [],
   "source": [
    "len_im=len(imdata)\n"
   ]
  },
  {
   "cell_type": "code",
   "execution_count": 27,
   "id": "61d6342b",
   "metadata": {},
   "outputs": [
    {
     "data": {
      "text/plain": [
       "55500"
      ]
     },
     "execution_count": 27,
     "metadata": {},
     "output_type": "execute_result"
    }
   ],
   "source": [
    "len_im"
   ]
  },
  {
   "cell_type": "code",
   "execution_count": 28,
   "id": "3c38ebb2",
   "metadata": {},
   "outputs": [],
   "source": [
    "range_len_im=list(range(len_im))"
   ]
  },
  {
   "cell_type": "code",
   "execution_count": 29,
   "id": "4c4ae4d1",
   "metadata": {},
   "outputs": [],
   "source": [
    "random.seed(2021)\n",
    "random.shuffle(range_len_im)"
   ]
  },
  {
   "cell_type": "code",
   "execution_count": 30,
   "id": "6fe0cad3",
   "metadata": {},
   "outputs": [],
   "source": [
    "X0=imdata[range_len_im[0:(len_im//4)*3]]"
   ]
  },
  {
   "cell_type": "code",
   "execution_count": 42,
   "id": "21630682",
   "metadata": {},
   "outputs": [
    {
     "data": {
      "text/plain": [
       "array([[[[168, 169, 167],\n",
       "         [168, 169, 167],\n",
       "         [168, 169, 167],\n",
       "         ...,\n",
       "         [171, 173, 184],\n",
       "         [170, 173, 181],\n",
       "         [169, 173, 178]],\n",
       "\n",
       "        [[168, 169, 167],\n",
       "         [168, 169, 167],\n",
       "         [169, 170, 168],\n",
       "         ...,\n",
       "         [170, 172, 183],\n",
       "         [169, 172, 180],\n",
       "         [169, 173, 178]],\n",
       "\n",
       "        [[169, 170, 168],\n",
       "         [169, 170, 168],\n",
       "         [169, 169, 169],\n",
       "         ...,\n",
       "         [168, 173, 182],\n",
       "         [170, 173, 181],\n",
       "         [170, 174, 179]],\n",
       "\n",
       "        ...,\n",
       "\n",
       "        [[171, 166, 163],\n",
       "         [171, 166, 163],\n",
       "         [172, 167, 164],\n",
       "         ...,\n",
       "         [186, 184, 184],\n",
       "         [185, 183, 183],\n",
       "         [185, 183, 183]],\n",
       "\n",
       "        [[168, 164, 163],\n",
       "         [170, 166, 165],\n",
       "         [172, 169, 165],\n",
       "         ...,\n",
       "         [187, 182, 183],\n",
       "         [187, 182, 183],\n",
       "         [186, 181, 182]],\n",
       "\n",
       "        [[167, 165, 164],\n",
       "         [168, 166, 165],\n",
       "         [171, 168, 164],\n",
       "         ...,\n",
       "         [185, 180, 181],\n",
       "         [186, 181, 182],\n",
       "         [185, 180, 181]]],\n",
       "\n",
       "\n",
       "       [[[164, 171, 158],\n",
       "         [167, 174, 161],\n",
       "         [166, 171, 162],\n",
       "         ...,\n",
       "         [175, 177, 177],\n",
       "         [175, 176, 180],\n",
       "         [175, 176, 180]],\n",
       "\n",
       "        [[165, 171, 160],\n",
       "         [166, 172, 161],\n",
       "         [166, 171, 162],\n",
       "         ...,\n",
       "         [178, 180, 181],\n",
       "         [174, 175, 179],\n",
       "         [178, 179, 183]],\n",
       "\n",
       "        [[162, 169, 162],\n",
       "         [162, 169, 162],\n",
       "         [166, 170, 165],\n",
       "         ...,\n",
       "         [174, 177, 182],\n",
       "         [170, 173, 177],\n",
       "         [171, 174, 178]],\n",
       "\n",
       "        ...,\n",
       "\n",
       "        [[171, 171, 165],\n",
       "         [174, 174, 168],\n",
       "         [179, 175, 170],\n",
       "         ...,\n",
       "         [190, 185, 194],\n",
       "         [193, 186, 193],\n",
       "         [193, 186, 193]],\n",
       "\n",
       "        [[173, 173, 167],\n",
       "         [175, 175, 169],\n",
       "         [178, 174, 169],\n",
       "         ...,\n",
       "         [193, 186, 193],\n",
       "         [193, 185, 192],\n",
       "         [194, 186, 193]],\n",
       "\n",
       "        [[174, 174, 168],\n",
       "         [176, 176, 170],\n",
       "         [178, 173, 170],\n",
       "         ...,\n",
       "         [192, 185, 192],\n",
       "         [193, 185, 192],\n",
       "         [194, 186, 193]]],\n",
       "\n",
       "\n",
       "       [[[194, 198, 193],\n",
       "         [196, 200, 195],\n",
       "         [202, 200, 200],\n",
       "         ...,\n",
       "         [195, 198, 203],\n",
       "         [196, 194, 200],\n",
       "         [196, 195, 199]],\n",
       "\n",
       "        [[197, 198, 194],\n",
       "         [198, 199, 195],\n",
       "         [201, 199, 198],\n",
       "         ...,\n",
       "         [192, 195, 200],\n",
       "         [196, 196, 202],\n",
       "         [198, 197, 201]],\n",
       "\n",
       "        [[200, 199, 195],\n",
       "         [200, 199, 195],\n",
       "         [201, 199, 198],\n",
       "         ...,\n",
       "         [191, 194, 199],\n",
       "         [194, 194, 200],\n",
       "         [194, 194, 200]],\n",
       "\n",
       "        ...,\n",
       "\n",
       "        [[195, 191, 190],\n",
       "         [195, 192, 188],\n",
       "         [194, 195, 186],\n",
       "         ...,\n",
       "         [198, 189, 192],\n",
       "         [197, 190, 193],\n",
       "         [197, 192, 194]],\n",
       "\n",
       "        [[194, 189, 188],\n",
       "         [194, 189, 186],\n",
       "         [195, 191, 186],\n",
       "         ...,\n",
       "         [194, 188, 193],\n",
       "         [198, 191, 196],\n",
       "         [198, 191, 196]],\n",
       "\n",
       "        [[196, 191, 190],\n",
       "         [196, 191, 188],\n",
       "         [198, 192, 187],\n",
       "         ...,\n",
       "         [191, 187, 193],\n",
       "         [197, 190, 195],\n",
       "         [197, 190, 195]]],\n",
       "\n",
       "\n",
       "       ...,\n",
       "\n",
       "\n",
       "       [[[ 49,  83, 113],\n",
       "         [ 57,  86, 117],\n",
       "         [ 69,  88, 121],\n",
       "         ...,\n",
       "         [ 90, 111, 132],\n",
       "         [ 85, 109, 127],\n",
       "         [ 85, 110, 126]],\n",
       "\n",
       "        [[ 52,  86, 116],\n",
       "         [ 60,  89, 120],\n",
       "         [ 63,  86, 118],\n",
       "         ...,\n",
       "         [ 89, 110, 131],\n",
       "         [ 90, 111, 132],\n",
       "         [ 91, 113, 131]],\n",
       "\n",
       "        [[ 52,  88, 118],\n",
       "         [ 53,  87, 117],\n",
       "         [ 60,  88, 119],\n",
       "         ...,\n",
       "         [ 90, 108, 131],\n",
       "         [ 94, 110, 133],\n",
       "         [ 94, 110, 133]],\n",
       "\n",
       "        ...,\n",
       "\n",
       "        [[ 60,  84, 108],\n",
       "         [ 63,  87, 111],\n",
       "         [ 59,  86, 107],\n",
       "         ...,\n",
       "         [ 73,  96, 104],\n",
       "         [ 79,  98, 106],\n",
       "         [ 80,  98, 105]],\n",
       "\n",
       "        [[ 59,  84, 110],\n",
       "         [ 62,  88, 112],\n",
       "         [ 53,  82, 103],\n",
       "         ...,\n",
       "         [ 74,  95, 103],\n",
       "         [ 80,  99, 106],\n",
       "         [ 78,  97, 102]],\n",
       "\n",
       "        [[ 59,  84, 110],\n",
       "         [ 62,  90, 114],\n",
       "         [ 56,  84, 108],\n",
       "         ...,\n",
       "         [ 74,  96, 102],\n",
       "         [ 79,  97, 104],\n",
       "         [ 76,  95, 100]]],\n",
       "\n",
       "\n",
       "       [[[177, 176, 178],\n",
       "         [178, 177, 179],\n",
       "         [178, 178, 178],\n",
       "         ...,\n",
       "         [178, 182, 187],\n",
       "         [177, 180, 185],\n",
       "         [178, 181, 186]],\n",
       "\n",
       "        [[178, 177, 179],\n",
       "         [178, 177, 179],\n",
       "         [178, 178, 178],\n",
       "         ...,\n",
       "         [178, 182, 187],\n",
       "         [180, 183, 188],\n",
       "         [180, 183, 188]],\n",
       "\n",
       "        [[178, 177, 179],\n",
       "         [179, 178, 180],\n",
       "         [179, 179, 179],\n",
       "         ...,\n",
       "         [179, 182, 187],\n",
       "         [178, 181, 186],\n",
       "         [178, 181, 186]],\n",
       "\n",
       "        ...,\n",
       "\n",
       "        [[172, 173, 169],\n",
       "         [175, 174, 170],\n",
       "         [179, 174, 173],\n",
       "         ...,\n",
       "         [185, 183, 183],\n",
       "         [187, 182, 183],\n",
       "         [187, 182, 183]],\n",
       "\n",
       "        [[173, 172, 168],\n",
       "         [176, 173, 169],\n",
       "         [179, 174, 173],\n",
       "         ...,\n",
       "         [186, 181, 183],\n",
       "         [184, 179, 181],\n",
       "         [184, 179, 181]],\n",
       "\n",
       "        [[175, 172, 168],\n",
       "         [176, 173, 169],\n",
       "         [179, 174, 173],\n",
       "         ...,\n",
       "         [182, 177, 179],\n",
       "         [182, 177, 179],\n",
       "         [182, 177, 179]]],\n",
       "\n",
       "\n",
       "       [[[ 61,  87, 124],\n",
       "         [ 57,  86, 123],\n",
       "         [ 48,  88, 123],\n",
       "         ...,\n",
       "         [ 95, 115, 132],\n",
       "         [ 90, 116, 132],\n",
       "         [ 84, 113, 127]],\n",
       "\n",
       "        [[ 62,  89, 126],\n",
       "         [ 57,  89, 125],\n",
       "         [ 48,  86, 121],\n",
       "         ...,\n",
       "         [ 90, 110, 128],\n",
       "         [ 90, 115, 131],\n",
       "         [ 87, 113, 127]],\n",
       "\n",
       "        [[ 55,  89, 125],\n",
       "         [ 54,  88, 124],\n",
       "         [ 54,  89, 123],\n",
       "         ...,\n",
       "         [ 90, 112, 130],\n",
       "         [101, 119, 136],\n",
       "         [101, 119, 136]],\n",
       "\n",
       "        ...,\n",
       "\n",
       "        [[ 69,  83, 111],\n",
       "         [ 73,  87, 115],\n",
       "         [ 68,  85, 112],\n",
       "         ...,\n",
       "         [ 75,  98, 106],\n",
       "         [ 78, 100, 106],\n",
       "         [ 81, 100, 107]],\n",
       "\n",
       "        [[ 63,  83, 108],\n",
       "         [ 68,  85, 111],\n",
       "         [ 72,  86, 114],\n",
       "         ...,\n",
       "         [ 74,  99, 109],\n",
       "         [ 78,  97, 105],\n",
       "         [ 80,  98, 105]],\n",
       "\n",
       "        [[ 62,  84, 109],\n",
       "         [ 67,  87, 112],\n",
       "         [ 74,  86, 114],\n",
       "         ...,\n",
       "         [ 71,  96, 106],\n",
       "         [ 76,  95, 103],\n",
       "         [ 78,  96, 103]]]], dtype=uint8)"
      ]
     },
     "execution_count": 42,
     "metadata": {},
     "output_type": "execute_result"
    }
   ],
   "source": [
    "X0"
   ]
  },
  {
   "cell_type": "code",
   "execution_count": 31,
   "id": "1a6dec2f",
   "metadata": {},
   "outputs": [],
   "source": [
    "Y0=imname[range_len_im[0:(len_im//4)*3]]"
   ]
  },
  {
   "cell_type": "code",
   "execution_count": 32,
   "id": "fc01e9a4",
   "metadata": {},
   "outputs": [
    {
     "data": {
      "text/plain": [
       "(41625,)"
      ]
     },
     "execution_count": 32,
     "metadata": {},
     "output_type": "execute_result"
    }
   ],
   "source": [
    "Y0.shape"
   ]
  },
  {
   "cell_type": "code",
   "execution_count": 33,
   "id": "05bd711f",
   "metadata": {},
   "outputs": [],
   "source": [
    "X1=imdata[range_len_im[(len_im//4)*3:]]"
   ]
  },
  {
   "cell_type": "code",
   "execution_count": 34,
   "id": "00e75fdb",
   "metadata": {},
   "outputs": [],
   "source": [
    "Y1=imname[range_len_im[(len_im//4)*3:]]"
   ]
  },
  {
   "cell_type": "code",
   "execution_count": 35,
   "id": "c24c9d02",
   "metadata": {},
   "outputs": [
    {
     "data": {
      "text/plain": [
       "(13875,)"
      ]
     },
     "execution_count": 35,
     "metadata": {},
     "output_type": "execute_result"
    }
   ],
   "source": [
    "Y1.shape"
   ]
  },
  {
   "cell_type": "code",
   "execution_count": 36,
   "id": "33134efe",
   "metadata": {},
   "outputs": [],
   "source": [
    "my_labels=to_categorical(Y0)"
   ]
  },
  {
   "cell_type": "code",
   "execution_count": 41,
   "id": "8a76512e",
   "metadata": {},
   "outputs": [
    {
     "data": {
      "text/plain": [
       "array([[0., 0., 0., ..., 0., 0., 0.],\n",
       "       [0., 0., 0., ..., 0., 0., 1.],\n",
       "       [0., 0., 0., ..., 0., 0., 0.],\n",
       "       ...,\n",
       "       [0., 0., 1., ..., 0., 0., 0.],\n",
       "       [0., 0., 0., ..., 0., 0., 0.],\n",
       "       [0., 0., 0., ..., 0., 0., 0.]], dtype=float32)"
      ]
     },
     "execution_count": 41,
     "metadata": {},
     "output_type": "execute_result"
    }
   ],
   "source": [
    "my_labels"
   ]
  },
  {
   "cell_type": "code",
   "execution_count": 37,
   "id": "20259236",
   "metadata": {},
   "outputs": [],
   "source": [
    "trainY=np.array(my_labels)"
   ]
  },
  {
   "cell_type": "code",
   "execution_count": 38,
   "id": "079a7680",
   "metadata": {},
   "outputs": [
    {
     "data": {
      "text/plain": [
       "(41625, 37)"
      ]
     },
     "execution_count": 38,
     "metadata": {},
     "output_type": "execute_result"
    }
   ],
   "source": [
    "trainY.shape"
   ]
  },
  {
   "cell_type": "code",
   "execution_count": 39,
   "id": "5df20af6",
   "metadata": {},
   "outputs": [],
   "source": [
    "X_Train,X_Test,Y_Train,Y_Test=train_test_split(X0,trainY,test_size=0.2,random_state=44)"
   ]
  },
  {
   "cell_type": "code",
   "execution_count": 40,
   "id": "72e77ef7",
   "metadata": {},
   "outputs": [
    {
     "name": "stdout",
     "output_type": "stream",
     "text": [
      "(33300, 50, 50, 3)\n",
      "(8325, 50, 50, 3)\n",
      "(33300, 37)\n",
      "(8325, 37)\n"
     ]
    }
   ],
   "source": [
    "print(X_Train.shape)\n",
    "print(X_Test.shape)\n",
    "print(Y_Train.shape)\n",
    "print(Y_Test.shape)"
   ]
  },
  {
   "cell_type": "code",
   "execution_count": null,
   "id": "fbb1db10",
   "metadata": {},
   "outputs": [],
   "source": [
    "datagen = ImageDataGenerator(horizontal_flip=True,vertical_flip=True,rotation_range=20,zoom_range=0.2,\n",
    "                        width_shift_range=0.2,height_shift_range=0.2,shear_range=0.1,fill_mode=\"nearest\")"
   ]
  },
  {
   "cell_type": "code",
   "execution_count": null,
   "id": "c3a25a65",
   "metadata": {},
   "outputs": [],
   "source": [
    "CNN_model = tf.keras.applications.DenseNet201(input_shape=(50,50,3),include_top=False,weights='imagenet',pooling='avg')\n",
    "CNN_model.trainable = False"
   ]
  },
  {
   "cell_type": "code",
   "execution_count": null,
   "id": "1cbc8dc7",
   "metadata": {},
   "outputs": [],
   "source": [
    "img_inputs = CNN_model.input"
   ]
  },
  {
   "cell_type": "code",
   "execution_count": null,
   "id": "a5145dbd",
   "metadata": {},
   "outputs": [],
   "source": [
    "x = tf.keras.layers.Dense(128, activation='relu')(CNN_model.output)"
   ]
  },
  {
   "cell_type": "code",
   "execution_count": null,
   "id": "de4e1e56",
   "metadata": {},
   "outputs": [],
   "source": [
    "img_output = tf.keras.layers.Dense(len(img_dir_names), activation='softmax')(x)"
   ]
  },
  {
   "cell_type": "code",
   "execution_count": null,
   "id": "d0dbecd6",
   "metadata": {},
   "outputs": [],
   "source": [
    "new_model = tf.keras.Model(inputs=img_inputs, outputs=img_output)"
   ]
  },
  {
   "cell_type": "code",
   "execution_count": null,
   "id": "0834987f",
   "metadata": {},
   "outputs": [],
   "source": [
    "#new_model.compile(optimizer='adam',loss='categorical_crossentropy',metrics=['accuracy'])\n",
    "#new_model.compile(optimizer='Adam',loss='categorical_crossentropy',metrics=['accuracy'])\n",
    "\n",
    "new_model.compile(optimizer='adam',loss='categorical_crossentropy',metrics=['accuracy'])\n"
   ]
  },
  {
   "cell_type": "code",
   "execution_count": null,
   "id": "64cdf99d",
   "metadata": {},
   "outputs": [],
   "source": [
    "new_model.summary()"
   ]
  },
  {
   "cell_type": "code",
   "execution_count": 62,
   "id": "42a295be",
   "metadata": {},
   "outputs": [
    {
     "name": "stdout",
     "output_type": "stream",
     "text": [
      "Epoch 1/20\n",
      "1041/1041 [==============================] - 353s 323ms/step - loss: 1.0620 - accuracy: 0.6686 - val_loss: 0.4461 - val_accuracy: 0.8413\n",
      "Epoch 2/20\n",
      "1041/1041 [==============================] - 326s 313ms/step - loss: 0.5263 - accuracy: 0.8226 - val_loss: 0.3679 - val_accuracy: 0.8759\n",
      "Epoch 3/20\n",
      "1041/1041 [==============================] - 356s 342ms/step - loss: 0.4271 - accuracy: 0.8522 - val_loss: 0.3367 - val_accuracy: 0.8908\n",
      "Epoch 4/20\n",
      "1041/1041 [==============================] - 331s 318ms/step - loss: 0.3758 - accuracy: 0.8710 - val_loss: 0.3801 - val_accuracy: 0.8769\n",
      "Epoch 5/20\n",
      "1041/1041 [==============================] - 388s 373ms/step - loss: 0.3489 - accuracy: 0.8803 - val_loss: 0.3921 - val_accuracy: 0.8752\n",
      "Epoch 6/20\n",
      "1041/1041 [==============================] - 404s 388ms/step - loss: 0.3390 - accuracy: 0.8850 - val_loss: 0.3689 - val_accuracy: 0.8652\n",
      "Epoch 7/20\n",
      "1041/1041 [==============================] - 382s 367ms/step - loss: 0.3143 - accuracy: 0.8913 - val_loss: 0.2586 - val_accuracy: 0.9135\n",
      "Epoch 8/20\n",
      "1041/1041 [==============================] - 372s 358ms/step - loss: 0.3076 - accuracy: 0.8923 - val_loss: 0.2501 - val_accuracy: 0.9118\n",
      "Epoch 9/20\n",
      "1041/1041 [==============================] - 380s 365ms/step - loss: 0.2973 - accuracy: 0.8971 - val_loss: 0.2764 - val_accuracy: 0.9174\n",
      "Epoch 10/20\n",
      "1041/1041 [==============================] - 386s 371ms/step - loss: 0.2746 - accuracy: 0.9056 - val_loss: 0.3754 - val_accuracy: 0.8950\n",
      "Epoch 11/20\n",
      "1041/1041 [==============================] - 435s 418ms/step - loss: 0.2719 - accuracy: 0.9059 - val_loss: 0.3111 - val_accuracy: 0.9020\n",
      "Epoch 12/20\n",
      "1041/1041 [==============================] - 416s 400ms/step - loss: 0.2635 - accuracy: 0.9088 - val_loss: 0.2804 - val_accuracy: 0.9098\n",
      "Epoch 13/20\n",
      "1041/1041 [==============================] - 403s 387ms/step - loss: 0.2550 - accuracy: 0.9122 - val_loss: 0.3281 - val_accuracy: 0.8951\n",
      "Epoch 14/20\n",
      "1041/1041 [==============================] - 391s 376ms/step - loss: 0.2513 - accuracy: 0.9131 - val_loss: 0.2739 - val_accuracy: 0.9156\n",
      "Epoch 15/20\n",
      "1041/1041 [==============================] - 387s 372ms/step - loss: 0.2431 - accuracy: 0.9154 - val_loss: 0.2997 - val_accuracy: 0.9052\n",
      "Epoch 16/20\n",
      "1041/1041 [==============================] - 380s 365ms/step - loss: 0.2350 - accuracy: 0.9201 - val_loss: 0.2789 - val_accuracy: 0.9035\n",
      "Epoch 17/20\n",
      "1041/1041 [==============================] - 372s 357ms/step - loss: 0.2377 - accuracy: 0.9187 - val_loss: 0.2834 - val_accuracy: 0.8979\n",
      "Epoch 18/20\n",
      "1041/1041 [==============================] - 373s 358ms/step - loss: 0.2314 - accuracy: 0.9226 - val_loss: 0.2941 - val_accuracy: 0.9044\n",
      "Epoch 19/20\n",
      "1041/1041 [==============================] - 375s 360ms/step - loss: 0.2323 - accuracy: 0.9209 - val_loss: 0.2674 - val_accuracy: 0.9121\n",
      "Epoch 20/20\n",
      "1041/1041 [==============================] - 376s 361ms/step - loss: 0.2288 - accuracy: 0.9201 - val_loss: 0.3607 - val_accuracy: 0.8911\n"
     ]
    }
   ],
   "source": [
    "fit_model=new_model.fit(datagen.flow(X_Train,Y_Train,batch_size=32),validation_data=(X_Test,Y_Test),epochs=20)"
   ]
  },
  {
   "cell_type": "code",
   "execution_count": 63,
   "id": "5a160de5",
   "metadata": {},
   "outputs": [],
   "source": [
    "y_pred=new_model.predict(X_Test)"
   ]
  },
  {
   "cell_type": "code",
   "execution_count": null,
   "id": "51c89eb2",
   "metadata": {},
   "outputs": [],
   "source": []
  },
  {
   "cell_type": "code",
   "execution_count": 84,
   "id": "6ac66016",
   "metadata": {},
   "outputs": [
    {
     "data": {
      "text/plain": [
       "array([[3.38207881e-17, 3.72117975e-10, 1.11892535e-11, ...,\n",
       "        1.41396859e-11, 2.99955102e-14, 1.11410921e-13],\n",
       "       [2.43797598e-27, 7.15874503e-14, 6.47908524e-16, ...,\n",
       "        5.32032372e-14, 5.29546485e-23, 4.47472497e-20],\n",
       "       [1.58023589e-15, 3.89869413e-17, 2.88497887e-16, ...,\n",
       "        2.97828515e-12, 1.82638329e-16, 2.41743896e-19],\n",
       "       ...,\n",
       "       [3.26063998e-09, 1.19462316e-08, 9.35958559e-13, ...,\n",
       "        5.18308127e-07, 4.22574059e-10, 9.98217642e-01],\n",
       "       [2.40935229e-13, 3.99250213e-13, 1.93374093e-12, ...,\n",
       "        6.38276703e-08, 1.50525009e-11, 1.35627320e-09],\n",
       "       [4.86082986e-15, 2.30941034e-15, 2.02324136e-14, ...,\n",
       "        8.20061727e-12, 5.98437353e-16, 3.62798563e-18]], dtype=float32)"
      ]
     },
     "execution_count": 84,
     "metadata": {},
     "output_type": "execute_result"
    }
   ],
   "source": [
    "y_pred"
   ]
  },
  {
   "cell_type": "code",
   "execution_count": 64,
   "id": "ce6ed905",
   "metadata": {},
   "outputs": [],
   "source": [
    "pred=np.argmax(y_pred,axis=1)"
   ]
  },
  {
   "cell_type": "code",
   "execution_count": 65,
   "id": "71064437",
   "metadata": {},
   "outputs": [],
   "source": [
    "ground = np.argmax(Y_Test,axis=1)"
   ]
  },
  {
   "cell_type": "code",
   "execution_count": 66,
   "id": "0054d3bc",
   "metadata": {},
   "outputs": [
    {
     "name": "stdout",
     "output_type": "stream",
     "text": [
      "              precision    recall  f1-score   support\n",
      "\n",
      "           0       1.00      0.96      0.98       225\n",
      "           1       1.00      1.00      1.00       237\n",
      "           2       1.00      0.94      0.97       238\n",
      "           3       0.97      0.99      0.98       231\n",
      "           4       0.93      0.91      0.92       217\n",
      "           5       1.00      1.00      1.00       217\n",
      "           6       1.00      0.28      0.43       232\n",
      "           7       0.34      0.12      0.17       234\n",
      "           8       0.42      1.00      0.59       240\n",
      "           9       0.93      0.97      0.95       205\n",
      "          10       1.00      0.98      0.99       216\n",
      "          11       1.00      1.00      1.00       236\n",
      "          12       1.00      0.83      0.91       207\n",
      "          13       0.97      0.88      0.93       191\n",
      "          14       1.00      1.00      1.00       239\n",
      "          15       0.98      0.53      0.69       227\n",
      "          16       0.97      0.44      0.61       236\n",
      "          17       0.94      0.90      0.92       214\n",
      "          18       0.78      0.95      0.86       250\n",
      "          19       0.84      0.98      0.90       250\n",
      "          20       0.88      0.99      0.93       216\n",
      "          21       0.91      0.93      0.92       212\n",
      "          22       0.99      1.00      0.99       230\n",
      "          23       0.96      0.99      0.98       237\n",
      "          24       0.97      1.00      0.98       240\n",
      "          25       0.58      1.00      0.73       205\n",
      "          26       0.97      1.00      0.99       210\n",
      "          27       0.99      0.90      0.94       209\n",
      "          28       1.00      0.98      0.99       214\n",
      "          29       0.93      0.99      0.96       223\n",
      "          30       0.75      0.99      0.85       216\n",
      "          31       0.99      0.89      0.93       227\n",
      "          32       0.91      0.99      0.95       208\n",
      "          33       0.97      0.90      0.93       230\n",
      "          34       1.00      1.00      1.00       246\n",
      "          35       0.99      0.84      0.91       242\n",
      "          36       0.99      1.00      0.99       218\n",
      "\n",
      "    accuracy                           0.89      8325\n",
      "   macro avg       0.91      0.89      0.89      8325\n",
      "weighted avg       0.91      0.89      0.88      8325\n",
      "\n"
     ]
    }
   ],
   "source": [
    "print(classification_report(ground,pred))"
   ]
  },
  {
   "cell_type": "code",
   "execution_count": 67,
   "id": "50400dd9",
   "metadata": {},
   "outputs": [
    {
     "data": {
      "image/png": "[encoded data removed]",
      "text/plain": [
       "<Figure size 432x288 with 1 Axes>"
      ]
     },
     "metadata": {
      "needs_background": "light"
     },
     "output_type": "display_data"
    },
    {
     "data": {
      "text/plain": [
       "<Figure size 432x288 with 0 Axes>"
      ]
     },
     "metadata": {},
     "output_type": "display_data"
    }
   ],
   "source": [
    "get_acc = fit_model.history['accuracy']\n",
    "value_acc = fit_model.history['val_accuracy']\n",
    "get_loss = fit_model.history['loss']\n",
    "validation_loss = fit_model.history['val_loss']\n",
    "\n",
    "epochs = range(len(get_acc))\n",
    "plt.plot(epochs, get_acc, 'r', label='Accuracy of Training data')\n",
    "plt.plot(epochs, value_acc, 'b', label='Accuracy of Validation data')\n",
    "plt.title('Training vs validation accuracy')\n",
    "plt.legend(loc=0)\n",
    "plt.figure()\n",
    "plt.show()"
   ]
  },
  {
   "cell_type": "code",
   "execution_count": 68,
   "id": "b048b745",
   "metadata": {},
   "outputs": [
    {
     "data": {
      "image/png": "[encoded data removed]",
      "text/plain": [
       "<Figure size 432x288 with 1 Axes>"
      ]
     },
     "metadata": {
      "needs_background": "light"
     },
     "output_type": "display_data"
    },
    {
     "data": {
      "text/plain": [
       "<Figure size 432x288 with 0 Axes>"
      ]
     },
     "metadata": {},
     "output_type": "display_data"
    }
   ],
   "source": [
    "epochs = range(len(get_loss))\n",
    "plt.plot(epochs, get_loss, 'r', label='Loss of Training data')\n",
    "plt.plot(epochs, validation_loss, 'b', label='Loss of Validation data')\n",
    "plt.title('Training vs validation loss')\n",
    "plt.legend(loc=0)\n",
    "plt.figure()\n",
    "plt.show()"
   ]
  },
  {
   "cell_type": "code",
   "execution_count": 69,
   "id": "e5609718",
   "metadata": {},
   "outputs": [
    {
     "name": "stdout",
     "output_type": "stream",
     "text": [
      "(13875, 37)\n"
     ]
    }
   ],
   "source": [
    "pred_2=new_model.predict(X1)\n",
    "print(pred_2.shape)"
   ]
  },
  {
   "cell_type": "code",
   "execution_count": 70,
   "id": "9c81aad7",
   "metadata": {},
   "outputs": [],
   "source": [
    "predicted=[]\n",
    "for item in pred_2:\n",
    "    value2=np.argmax(item)      \n",
    "    predicted+=[value2]"
   ]
  },
  {
   "cell_type": "code",
   "execution_count": 71,
   "id": "e4049b6d",
   "metadata": {},
   "outputs": [
    {
     "name": "stdout",
     "output_type": "stream",
     "text": [
      "8     956\n",
      "25    609\n",
      "18    498\n",
      "30    469\n",
      "19    443\n",
      "32    425\n",
      "20    424\n",
      "26    413\n",
      "23    405\n",
      "4     398\n",
      "11    394\n",
      "5     393\n",
      "9     391\n",
      "10    389\n",
      "21    384\n",
      "24    382\n",
      "29    377\n",
      "28    373\n",
      "34    372\n",
      "36    369\n",
      "22    360\n",
      "17    358\n",
      "3     353\n",
      "14    352\n",
      "2     352\n",
      "1     347\n",
      "33    345\n",
      "13    340\n",
      "0     329\n",
      "27    327\n",
      "31    326\n",
      "35    299\n",
      "12    295\n",
      "15    232\n",
      "16    182\n",
      "7     134\n",
      "6      80\n",
      "dtype: int64\n"
     ]
    }
   ],
   "source": [
    "print(pd.Series(predicted).value_counts())"
   ]
  },
  {
   "cell_type": "code",
   "execution_count": 72,
   "id": "fb6f29b1",
   "metadata": {},
   "outputs": [
    {
     "name": "stdout",
     "output_type": "stream",
     "text": [
      "32    404\n",
      "17    396\n",
      "5     395\n",
      "4     395\n",
      "11    394\n",
      "23    394\n",
      "6     394\n",
      "10    392\n",
      "21    390\n",
      "8     389\n",
      "26    386\n",
      "30    383\n",
      "18    383\n",
      "20    382\n",
      "33    382\n",
      "7     382\n",
      "2     380\n",
      "15    379\n",
      "35    378\n",
      "28    376\n",
      "34    371\n",
      "9     370\n",
      "12    370\n",
      "24    369\n",
      "25    368\n",
      "36    366\n",
      "27    366\n",
      "19    365\n",
      "16    364\n",
      "13    363\n",
      "22    356\n",
      "14    354\n",
      "29    354\n",
      "1     348\n",
      "31    347\n",
      "3     345\n",
      "0     345\n",
      "dtype: int64\n",
      "0.8892252252252252\n"
     ]
    }
   ],
   "source": [
    "ANS = Y1\n",
    "print(pd.Series(ANS).value_counts())\n",
    "accuracy=accuracy_score(ANS,predicted)\n",
    "print(accuracy)"
   ]
  },
  {
   "cell_type": "code",
   "execution_count": 73,
   "id": "9bb8f5ac",
   "metadata": {},
   "outputs": [
    {
     "data": {
      "image/png": "[encoded data removed]",
      "text/plain": [
       "<Figure size 864x864 with 9 Axes>"
      ]
     },
     "metadata": {
      "needs_background": "light"
     },
     "output_type": "display_data"
    }
   ],
   "source": [
    "fig, axs = plt.subplots(3,3,figsize=(12,12))\n",
    "for i in range(9):\n",
    "    r=i//3\n",
    "    c=i%3\n",
    "    img1 = X1[i]\n",
    "    ax=axs[r][c].axis(\"off\")\n",
    "    actual=rev_map[Y1[i]]\n",
    "    predict=rev_map[predicted[i]]    \n",
    "    ax=axs[r][c].set_title(actual+'=='+predict)\n",
    "    ax=axs[r][c].imshow(cv2.cvtColor(img1, cv2.COLOR_BGR2RGB))\n",
    "plt.show()"
   ]
  },
  {
   "cell_type": "markdown",
   "id": "ba8fb0cc",
   "metadata": {},
   "source": [
    "# Saving the model to the local directory"
   ]
  },
  {
   "cell_type": "code",
   "execution_count": 74,
   "id": "98377f6b",
   "metadata": {},
   "outputs": [],
   "source": [
    "file_name='C:\\\\Users\\\\devel\\\\OneDrive\\\\Documents\\\\Notes\\\\SEM-2\\\\AI-and-ML-Lab-2404\\\\Project\\\\trained_Sign_languages.pkl'"
   ]
  },
  {
   "cell_type": "code",
   "execution_count": 80,
   "id": "301de6d2",
   "metadata": {},
   "outputs": [],
   "source": [
    "new_model.save(\"C:\\\\Users\\\\devel\\\\OneDrive\\\\Documents\\\\Notes\\\\SEM-2\\\\AI-and-ML-Lab-2404\\\\Project\\\\model.h5\")"
   ]
  },
  {
   "cell_type": "code",
   "execution_count": 81,
   "id": "c13b99ea",
   "metadata": {},
   "outputs": [],
   "source": [
    "k_model = tf.keras.models.load_model('C:\\\\Users\\\\devel\\\\OneDrive\\\\Documents\\\\Notes\\\\SEM-2\\\\AI-and-ML-Lab-2404\\\\Project\\\\model.h5')"
   ]
  },
  {
   "cell_type": "code",
   "execution_count": 82,
   "id": "f4f1307a",
   "metadata": {},
   "outputs": [],
   "source": [
    "new_pred=k_model.predict(X_Test)"
   ]
  },
  {
   "cell_type": "code",
   "execution_count": 83,
   "id": "00ba8aa1",
   "metadata": {},
   "outputs": [
    {
     "data": {
      "text/plain": [
       "array([[3.38207881e-17, 3.72117975e-10, 1.11892535e-11, ...,\n",
       "        1.41396859e-11, 2.99955102e-14, 1.11410921e-13],\n",
       "       [2.43797598e-27, 7.15874503e-14, 6.47908524e-16, ...,\n",
       "        5.32032372e-14, 5.29546485e-23, 4.47472497e-20],\n",
       "       [1.58023589e-15, 3.89869413e-17, 2.88497887e-16, ...,\n",
       "        2.97828515e-12, 1.82638329e-16, 2.41743896e-19],\n",
       "       ...,\n",
       "       [3.26063998e-09, 1.19462316e-08, 9.35958559e-13, ...,\n",
       "        5.18308127e-07, 4.22574059e-10, 9.98217642e-01],\n",
       "       [2.40935229e-13, 3.99250213e-13, 1.93374093e-12, ...,\n",
       "        6.38276703e-08, 1.50525009e-11, 1.35627320e-09],\n",
       "       [4.86082986e-15, 2.30941034e-15, 2.02324136e-14, ...,\n",
       "        8.20061727e-12, 5.98437353e-16, 3.62798563e-18]], dtype=float32)"
      ]
     },
     "execution_count": 83,
     "metadata": {},
     "output_type": "execute_result"
    }
   ],
   "source": [
    "new_pred"
   ]
  },
  {
   "cell_type": "markdown",
   "id": "feb73082",
   "metadata": {},
   "source": [
    "# FASTAPI /FLASK API"
   ]
  },
  {
   "cell_type": "code",
   "execution_count": 85,
   "id": "ceaaf2c7",
   "metadata": {},
   "outputs": [
    {
     "name": "stdout",
     "output_type": "stream",
     "text": [
      "Collecting fastapiNote: you may need to restart the kernel to use updated packages.\n",
      "  Downloading fastapi-0.87.0-py3-none-any.whl (55 kB)\n",
      "Requirement already satisfied: pydantic!=1.7,!=1.7.1,!=1.7.2,!=1.7.3,!=1.8,!=1.8.1,<2.0.0,>=1.6.2 in c:\\users\\devel\\anaconda3\\lib\\site-packages (from fastapi) (1.10.2)\n",
      "Collecting starlette==0.21.0\n",
      "  Downloading starlette-0.21.0-py3-none-any.whl (64 kB)\n",
      "Requirement already satisfied: typing-extensions>=3.10.0 in c:\\users\\devel\\anaconda3\\lib\\site-packages (from starlette==0.21.0->fastapi) (4.1.1)\n",
      "Requirement already satisfied: anyio<5,>=3.4.0 in c:\\users\\devel\\anaconda3\\lib\\site-packages (from starlette==0.21.0->fastapi) (3.5.0)\n",
      "Requirement already satisfied: sniffio>=1.1 in c:\\users\\devel\\anaconda3\\lib\\site-packages (from anyio<5,>=3.4.0->starlette==0.21.0->fastapi) (1.2.0)\n",
      "Requirement already satisfied: idna>=2.8 in c:\\users\\devel\\anaconda3\\lib\\site-packages (from anyio<5,>=3.4.0->starlette==0.21.0->fastapi) (3.3)\n",
      "Installing collected packages: starlette, fastapi\n",
      "Successfully installed fastapi-0.87.0 starlette-0.21.0\n",
      "\n"
     ]
    }
   ],
   "source": [
    "pip install fastapi"
   ]
  },
  {
   "cell_type": "code",
   "execution_count": 86,
   "id": "095d7d5c",
   "metadata": {},
   "outputs": [
    {
     "name": "stdout",
     "output_type": "stream",
     "text": [
      "Collecting uvicornNote: you may need to restart the kernel to use updated packages.\n",
      "  Downloading uvicorn-0.19.0-py3-none-any.whl (56 kB)\n",
      "Requirement already satisfied: click>=7.0 in c:\\users\\devel\\anaconda3\\lib\\site-packages (from uvicorn) (8.0.4)\n",
      "Requirement already satisfied: h11>=0.8 in c:\\users\\devel\\anaconda3\\lib\\site-packages (from uvicorn) (0.14.0)\n",
      "Requirement already satisfied: colorama in c:\\users\\devel\\anaconda3\\lib\\site-packages (from click>=7.0->uvicorn) (0.4.4)\n",
      "Installing collected packages: uvicorn\n",
      "Successfully installed uvicorn-0.19.0\n",
      "\n"
     ]
    }
   ],
   "source": [
    "pip install uvicorn"
   ]
  },
  {
   "cell_type": "markdown",
   "id": "3174a1fd",
   "metadata": {},
   "source": [
    "### Initializing a FastAPI App Instance"
   ]
  },
  {
   "cell_type": "code",
   "execution_count": 88,
   "id": "9d9061f1",
   "metadata": {},
   "outputs": [],
   "source": [
    "app = FastAPI(\n",
    "    title=\"Sign Language Model API\",\n",
    "    description=\"An API which uses NLP model to predict the real time sign language\",\n",
    "    version=\"0.1\",\n",
    ")"
   ]
  },
  {
   "cell_type": "markdown",
   "id": "f56b30dd",
   "metadata": {},
   "source": [
    "### Create Prediction Endpoint"
   ]
  },
  {
   "cell_type": "code",
   "execution_count": 89,
   "id": "891ec70d",
   "metadata": {},
   "outputs": [
    {
     "ename": "SyntaxError",
     "evalue": "unexpected EOF while parsing (1052132422.py, line 1)",
     "output_type": "error",
     "traceback": [
      "\u001b[1;36m  Input \u001b[1;32mIn [89]\u001b[1;36m\u001b[0m\n\u001b[1;33m    @app.get(\"/predict-sign\")\u001b[0m\n\u001b[1;37m                             ^\u001b[0m\n\u001b[1;31mSyntaxError\u001b[0m\u001b[1;31m:\u001b[0m unexpected EOF while parsing\n"
     ]
    }
   ],
   "source": [
    "@app.get(\"/predict-sign\")"
   ]
  },
  {
   "cell_type": "markdown",
   "id": "007ad348",
   "metadata": {},
   "source": [
    "Optimising the model"
   ]
  },
  {
   "cell_type": "code",
   "execution_count": null,
   "id": "316afe88",
   "metadata": {},
   "outputs": [],
   "source": [
    "categories=trainY.shape[1]"
   ]
  },
  {
   "cell_type": "code",
   "execution_count": null,
   "id": "130c4f04",
   "metadata": {},
   "outputs": [],
   "source": [
    "X_Train,X_Test,Y_Train,Y_Test=train_test_split(X0,trainY,test_size=0.25,random_state=0)"
   ]
  },
  {
   "cell_type": "code",
   "execution_count": null,
   "id": "ecee9b45",
   "metadata": {},
   "outputs": [],
   "source": [
    "print(X_Train.shape, X_Test.shape)\n",
    "print(Y_Train.shape, Y_Test.shape)"
   ]
  },
  {
   "cell_type": "code",
   "execution_count": null,
   "id": "2ea6cf8a",
   "metadata": {},
   "outputs": [],
   "source": [
    "model = Sequential()\n",
    "model.add(Conv2D(64, kernel_size=(3,3), activation = 'relu',input_shape=(50,50 ,3) ))\n",
    "model.add(MaxPooling2D(pool_size = (2, 2)))\n",
    "\n",
    "\n",
    "model.add(Conv2D(64, kernel_size = (3, 3), activation = 'relu',kernel_regularizer=regularizers.l2(l=0.01)))\n",
    "model.add(MaxPooling2D(pool_size = (2, 2)))\n",
    "\n",
    "\n",
    "model.add(Conv2D(64, kernel_size = (3, 3), activation = 'relu',kernel_regularizer=regularizers.l2(l=0.01)))\n",
    "model.add(MaxPooling2D(pool_size = (2, 2)))\n",
    "\n",
    "\n",
    "model.add(Flatten())\n",
    "model.add(Dense(128, activation = 'relu'))\n",
    "model.add(Dropout(0.20))\n",
    "model.add(Dense(categories, activation = 'softmax'))\n",
    "\n",
    "model.summary()"
   ]
  },
  {
   "cell_type": "code",
   "execution_count": null,
   "id": "532a65b1",
   "metadata": {},
   "outputs": [],
   "source": [
    "model.compile(optimizer='Adam',\n",
    "              loss='categorical_crossentropy',\n",
    "              metrics=['accuracy'])"
   ]
  },
  {
   "cell_type": "code",
   "execution_count": null,
   "id": "8405c7b7",
   "metadata": {},
   "outputs": [],
   "source": [
    "fit_model=model.fit(datagen.flow(X_Train,Y_Train,batch_size=138),validation_data=(X_Test,Y_Test),epochs=20)"
   ]
  },
  {
   "cell_type": "code",
   "execution_count": null,
   "id": "0d18d522",
   "metadata": {},
   "outputs": [],
   "source": [
    "y_pred=model.predict(X_Test)\n",
    "pred=np.argmax(y_pred,axis=1)\n",
    "ground = np.argmax(Y_Test,axis=1)\n",
    "print(classification_report(ground,pred))"
   ]
  },
  {
   "cell_type": "code",
   "execution_count": null,
   "id": "2327cd4b",
   "metadata": {},
   "outputs": [],
   "source": [
    "get_acc = fit_model.history['accuracy']\n",
    "value_acc = fit_model.history['val_accuracy']\n",
    "get_loss = fit_model.history['loss']\n",
    "validation_loss = fit_model.history['val_loss']\n",
    "\n",
    "epochs = range(len(get_acc))\n",
    "plt.plot(epochs, get_acc, 'r', label='Accuracy of Training data')\n",
    "plt.plot(epochs, value_acc, 'b', label='Accuracy of Validation data')\n",
    "plt.title('Training vs validation accuracy')\n",
    "plt.legend(loc=0)\n",
    "plt.figure()\n",
    "plt.show()"
   ]
  },
  {
   "cell_type": "code",
   "execution_count": null,
   "id": "3d589d58",
   "metadata": {},
   "outputs": [],
   "source": [
    "epochs = range(len(get_loss))\n",
    "plt.plot(epochs, get_loss, 'r', label='Loss of Training data')\n",
    "plt.plot(epochs, validation_loss, 'b', label='Loss of Validation data')\n",
    "plt.title('Training vs validation loss')\n",
    "plt.legend(loc=0)\n",
    "plt.figure()\n",
    "plt.show()"
   ]
  },
  {
   "cell_type": "code",
   "execution_count": null,
   "id": "898d46f6",
   "metadata": {},
   "outputs": [],
   "source": [
    "pred_2=model.predict(X1)\n",
    "print(pred_2.shape)\n",
    "\n",
    "predicted=[]\n",
    "for item in pred_2:\n",
    "    value2=np.argmax(item)      \n",
    "    predicted+=[value2]"
   ]
  },
  {
   "cell_type": "code",
   "execution_count": null,
   "id": "c8fc237d",
   "metadata": {},
   "outputs": [],
   "source": [
    "ANS = Y1\n",
    "print(pd.Series(ANS).value_counts())\n",
    "accuracy=accuracy_score(ANS,predicted)\n",
    "print(accuracy)"
   ]
  },
  {
   "cell_type": "markdown",
   "id": "7d4e2204",
   "metadata": {},
   "source": [
    "## VGG-16 Implementation"
   ]
  },
  {
   "cell_type": "code",
   "execution_count": 46,
   "id": "2a6a204a",
   "metadata": {},
   "outputs": [],
   "source": [
    "import os\n",
    "from keras.models import Model\n",
    "from tensorflow.keras.optimizers import Adam \n",
    "from keras.applications.vgg16 import VGG16, preprocess_input\n",
    "from keras.preprocessing.image import ImageDataGenerator\n",
    "from keras.callbacks import ModelCheckpoint, EarlyStopping\n",
    "from keras.layers import Dense, Dropout, Flatten\n",
    "from pathlib import Path\n",
    "import numpy as np"
   ]
  },
  {
   "cell_type": "code",
   "execution_count": 47,
   "id": "e344b22e",
   "metadata": {},
   "outputs": [],
   "source": [
    "BATCH_SIZE = 64\n",
    "\n",
    "train_generator = ImageDataGenerator(rotation_range=90, \n",
    "                                     brightness_range=[0.1, 0.7],\n",
    "                                     width_shift_range=0.5, \n",
    "                                     height_shift_range=0.5,\n",
    "                                     horizontal_flip=True, \n",
    "                                     vertical_flip=True,\n",
    "                                     validation_split=0.15,\n",
    "                                     preprocessing_function=preprocess_input) # VGG16 preprocessing\n",
    "\n",
    "test_generator = ImageDataGenerator(preprocessing_function=preprocess_input) # VGG16 preprocessing"
   ]
  },
  {
   "cell_type": "code",
   "execution_count": 49,
   "id": "0b5bbed6",
   "metadata": {},
   "outputs": [
    {
     "ename": "ValueError",
     "evalue": "listdir: embedded null character in path",
     "output_type": "error",
     "traceback": [
      "\u001b[1;31m---------------------------------------------------------------------------\u001b[0m",
      "\u001b[1;31mValueError\u001b[0m                                Traceback (most recent call last)",
      "Input \u001b[1;32mIn [49]\u001b[0m, in \u001b[0;36m<cell line: 1>\u001b[1;34m()\u001b[0m\n\u001b[1;32m----> 1\u001b[0m traingen \u001b[38;5;241m=\u001b[39m \u001b[43mtrain_generator\u001b[49m\u001b[38;5;241;43m.\u001b[39;49m\u001b[43mflow_from_directory\u001b[49m\u001b[43m(\u001b[49m\u001b[43mX0\u001b[49m\u001b[43m,\u001b[49m\n\u001b[0;32m      2\u001b[0m \u001b[43m                                               \u001b[49m\u001b[43mtarget_size\u001b[49m\u001b[38;5;241;43m=\u001b[39;49m\u001b[43m(\u001b[49m\u001b[38;5;241;43m50\u001b[39;49m\u001b[43m,\u001b[49m\u001b[43m \u001b[49m\u001b[38;5;241;43m50\u001b[39;49m\u001b[43m)\u001b[49m\u001b[43m,\u001b[49m\n\u001b[0;32m      3\u001b[0m \u001b[43m                                               \u001b[49m\u001b[43mclass_mode\u001b[49m\u001b[38;5;241;43m=\u001b[39;49m\u001b[38;5;124;43m'\u001b[39;49m\u001b[38;5;124;43mcategorical\u001b[39;49m\u001b[38;5;124;43m'\u001b[39;49m\u001b[43m,\u001b[49m\n\u001b[0;32m      4\u001b[0m \u001b[43m                                               \u001b[49m\u001b[38;5;66;43;03m#classes=class_subset,\u001b[39;49;00m\n\u001b[0;32m      5\u001b[0m \u001b[43m                                               \u001b[49m\u001b[43msubset\u001b[49m\u001b[38;5;241;43m=\u001b[39;49m\u001b[38;5;124;43m'\u001b[39;49m\u001b[38;5;124;43mtraining\u001b[39;49m\u001b[38;5;124;43m'\u001b[39;49m\u001b[43m,\u001b[49m\n\u001b[0;32m      6\u001b[0m \u001b[43m                                               \u001b[49m\u001b[43mbatch_size\u001b[49m\u001b[38;5;241;43m=\u001b[39;49m\u001b[43mBATCH_SIZE\u001b[49m\u001b[43m,\u001b[49m\u001b[43m \u001b[49m\n\u001b[0;32m      7\u001b[0m \u001b[43m                                               \u001b[49m\u001b[43mshuffle\u001b[49m\u001b[38;5;241;43m=\u001b[39;49m\u001b[38;5;28;43;01mTrue\u001b[39;49;00m\u001b[43m,\u001b[49m\n\u001b[0;32m      8\u001b[0m \u001b[43m                                               \u001b[49m\u001b[43mseed\u001b[49m\u001b[38;5;241;43m=\u001b[39;49m\u001b[38;5;241;43m42\u001b[39;49m\u001b[43m)\u001b[49m\n",
      "File \u001b[1;32m~\\anaconda3\\lib\\site-packages\\keras\\preprocessing\\image.py:976\u001b[0m, in \u001b[0;36mImageDataGenerator.flow_from_directory\u001b[1;34m(self, directory, target_size, color_mode, classes, class_mode, batch_size, shuffle, seed, save_to_dir, save_prefix, save_format, follow_links, subset, interpolation)\u001b[0m\n\u001b[0;32m    898\u001b[0m \u001b[38;5;28;01mdef\u001b[39;00m \u001b[38;5;21mflow_from_directory\u001b[39m(\u001b[38;5;28mself\u001b[39m,\n\u001b[0;32m    899\u001b[0m                         directory,\n\u001b[0;32m    900\u001b[0m                         target_size\u001b[38;5;241m=\u001b[39m(\u001b[38;5;241m256\u001b[39m, \u001b[38;5;241m256\u001b[39m),\n\u001b[1;32m   (...)\u001b[0m\n\u001b[0;32m    911\u001b[0m                         subset\u001b[38;5;241m=\u001b[39m\u001b[38;5;28;01mNone\u001b[39;00m,\n\u001b[0;32m    912\u001b[0m                         interpolation\u001b[38;5;241m=\u001b[39m\u001b[38;5;124m'\u001b[39m\u001b[38;5;124mnearest\u001b[39m\u001b[38;5;124m'\u001b[39m):\n\u001b[0;32m    913\u001b[0m   \u001b[38;5;124;03m\"\"\"Takes the path to a directory & generates batches of augmented data.\u001b[39;00m\n\u001b[0;32m    914\u001b[0m \n\u001b[0;32m    915\u001b[0m \u001b[38;5;124;03m  Args:\u001b[39;00m\n\u001b[1;32m   (...)\u001b[0m\n\u001b[0;32m    974\u001b[0m \u001b[38;5;124;03m          and `y` is a numpy array of corresponding labels.\u001b[39;00m\n\u001b[0;32m    975\u001b[0m \u001b[38;5;124;03m  \"\"\"\u001b[39;00m\n\u001b[1;32m--> 976\u001b[0m   \u001b[38;5;28;01mreturn\u001b[39;00m \u001b[43mDirectoryIterator\u001b[49m\u001b[43m(\u001b[49m\n\u001b[0;32m    977\u001b[0m \u001b[43m      \u001b[49m\u001b[43mdirectory\u001b[49m\u001b[43m,\u001b[49m\n\u001b[0;32m    978\u001b[0m \u001b[43m      \u001b[49m\u001b[38;5;28;43mself\u001b[39;49m\u001b[43m,\u001b[49m\n\u001b[0;32m    979\u001b[0m \u001b[43m      \u001b[49m\u001b[43mtarget_size\u001b[49m\u001b[38;5;241;43m=\u001b[39;49m\u001b[43mtarget_size\u001b[49m\u001b[43m,\u001b[49m\n\u001b[0;32m    980\u001b[0m \u001b[43m      \u001b[49m\u001b[43mcolor_mode\u001b[49m\u001b[38;5;241;43m=\u001b[39;49m\u001b[43mcolor_mode\u001b[49m\u001b[43m,\u001b[49m\n\u001b[0;32m    981\u001b[0m \u001b[43m      \u001b[49m\u001b[43mclasses\u001b[49m\u001b[38;5;241;43m=\u001b[39;49m\u001b[43mclasses\u001b[49m\u001b[43m,\u001b[49m\n\u001b[0;32m    982\u001b[0m \u001b[43m      \u001b[49m\u001b[43mclass_mode\u001b[49m\u001b[38;5;241;43m=\u001b[39;49m\u001b[43mclass_mode\u001b[49m\u001b[43m,\u001b[49m\n\u001b[0;32m    983\u001b[0m \u001b[43m      \u001b[49m\u001b[43mdata_format\u001b[49m\u001b[38;5;241;43m=\u001b[39;49m\u001b[38;5;28;43mself\u001b[39;49m\u001b[38;5;241;43m.\u001b[39;49m\u001b[43mdata_format\u001b[49m\u001b[43m,\u001b[49m\n\u001b[0;32m    984\u001b[0m \u001b[43m      \u001b[49m\u001b[43mbatch_size\u001b[49m\u001b[38;5;241;43m=\u001b[39;49m\u001b[43mbatch_size\u001b[49m\u001b[43m,\u001b[49m\n\u001b[0;32m    985\u001b[0m \u001b[43m      \u001b[49m\u001b[43mshuffle\u001b[49m\u001b[38;5;241;43m=\u001b[39;49m\u001b[43mshuffle\u001b[49m\u001b[43m,\u001b[49m\n\u001b[0;32m    986\u001b[0m \u001b[43m      \u001b[49m\u001b[43mseed\u001b[49m\u001b[38;5;241;43m=\u001b[39;49m\u001b[43mseed\u001b[49m\u001b[43m,\u001b[49m\n\u001b[0;32m    987\u001b[0m \u001b[43m      \u001b[49m\u001b[43msave_to_dir\u001b[49m\u001b[38;5;241;43m=\u001b[39;49m\u001b[43msave_to_dir\u001b[49m\u001b[43m,\u001b[49m\n\u001b[0;32m    988\u001b[0m \u001b[43m      \u001b[49m\u001b[43msave_prefix\u001b[49m\u001b[38;5;241;43m=\u001b[39;49m\u001b[43msave_prefix\u001b[49m\u001b[43m,\u001b[49m\n\u001b[0;32m    989\u001b[0m \u001b[43m      \u001b[49m\u001b[43msave_format\u001b[49m\u001b[38;5;241;43m=\u001b[39;49m\u001b[43msave_format\u001b[49m\u001b[43m,\u001b[49m\n\u001b[0;32m    990\u001b[0m \u001b[43m      \u001b[49m\u001b[43mfollow_links\u001b[49m\u001b[38;5;241;43m=\u001b[39;49m\u001b[43mfollow_links\u001b[49m\u001b[43m,\u001b[49m\n\u001b[0;32m    991\u001b[0m \u001b[43m      \u001b[49m\u001b[43msubset\u001b[49m\u001b[38;5;241;43m=\u001b[39;49m\u001b[43msubset\u001b[49m\u001b[43m,\u001b[49m\n\u001b[0;32m    992\u001b[0m \u001b[43m      \u001b[49m\u001b[43minterpolation\u001b[49m\u001b[38;5;241;43m=\u001b[39;49m\u001b[43minterpolation\u001b[49m\u001b[43m)\u001b[49m\n",
      "File \u001b[1;32m~\\anaconda3\\lib\\site-packages\\keras\\preprocessing\\image.py:394\u001b[0m, in \u001b[0;36mDirectoryIterator.__init__\u001b[1;34m(self, directory, image_data_generator, target_size, color_mode, classes, class_mode, batch_size, shuffle, seed, data_format, save_to_dir, save_prefix, save_format, follow_links, subset, interpolation, dtype)\u001b[0m\n\u001b[0;32m    392\u001b[0m     dtype \u001b[38;5;241m=\u001b[39m backend\u001b[38;5;241m.\u001b[39mfloatx()\n\u001b[0;32m    393\u001b[0m   kwargs[\u001b[38;5;124m'\u001b[39m\u001b[38;5;124mdtype\u001b[39m\u001b[38;5;124m'\u001b[39m] \u001b[38;5;241m=\u001b[39m dtype\n\u001b[1;32m--> 394\u001b[0m \u001b[38;5;28msuper\u001b[39m(DirectoryIterator, \u001b[38;5;28mself\u001b[39m)\u001b[38;5;241m.\u001b[39m\u001b[38;5;21m__init__\u001b[39m(\n\u001b[0;32m    395\u001b[0m     directory, image_data_generator,\n\u001b[0;32m    396\u001b[0m     target_size\u001b[38;5;241m=\u001b[39mtarget_size,\n\u001b[0;32m    397\u001b[0m     color_mode\u001b[38;5;241m=\u001b[39mcolor_mode,\n\u001b[0;32m    398\u001b[0m     classes\u001b[38;5;241m=\u001b[39mclasses,\n\u001b[0;32m    399\u001b[0m     class_mode\u001b[38;5;241m=\u001b[39mclass_mode,\n\u001b[0;32m    400\u001b[0m     batch_size\u001b[38;5;241m=\u001b[39mbatch_size,\n\u001b[0;32m    401\u001b[0m     shuffle\u001b[38;5;241m=\u001b[39mshuffle,\n\u001b[0;32m    402\u001b[0m     seed\u001b[38;5;241m=\u001b[39mseed,\n\u001b[0;32m    403\u001b[0m     data_format\u001b[38;5;241m=\u001b[39mdata_format,\n\u001b[0;32m    404\u001b[0m     save_to_dir\u001b[38;5;241m=\u001b[39msave_to_dir,\n\u001b[0;32m    405\u001b[0m     save_prefix\u001b[38;5;241m=\u001b[39msave_prefix,\n\u001b[0;32m    406\u001b[0m     save_format\u001b[38;5;241m=\u001b[39msave_format,\n\u001b[0;32m    407\u001b[0m     follow_links\u001b[38;5;241m=\u001b[39mfollow_links,\n\u001b[0;32m    408\u001b[0m     subset\u001b[38;5;241m=\u001b[39msubset,\n\u001b[0;32m    409\u001b[0m     interpolation\u001b[38;5;241m=\u001b[39minterpolation,\n\u001b[0;32m    410\u001b[0m     \u001b[38;5;241m*\u001b[39m\u001b[38;5;241m*\u001b[39mkwargs)\n",
      "File \u001b[1;32m~\\anaconda3\\lib\\site-packages\\keras_preprocessing\\image\\directory_iterator.py:115\u001b[0m, in \u001b[0;36mDirectoryIterator.__init__\u001b[1;34m(self, directory, image_data_generator, target_size, color_mode, classes, class_mode, batch_size, shuffle, seed, data_format, save_to_dir, save_prefix, save_format, follow_links, subset, interpolation, dtype)\u001b[0m\n\u001b[0;32m    113\u001b[0m \u001b[38;5;28;01mif\u001b[39;00m \u001b[38;5;129;01mnot\u001b[39;00m classes:\n\u001b[0;32m    114\u001b[0m     classes \u001b[38;5;241m=\u001b[39m []\n\u001b[1;32m--> 115\u001b[0m     \u001b[38;5;28;01mfor\u001b[39;00m subdir \u001b[38;5;129;01min\u001b[39;00m \u001b[38;5;28msorted\u001b[39m(\u001b[43mos\u001b[49m\u001b[38;5;241;43m.\u001b[39;49m\u001b[43mlistdir\u001b[49m\u001b[43m(\u001b[49m\u001b[43mdirectory\u001b[49m\u001b[43m)\u001b[49m):\n\u001b[0;32m    116\u001b[0m         \u001b[38;5;28;01mif\u001b[39;00m os\u001b[38;5;241m.\u001b[39mpath\u001b[38;5;241m.\u001b[39misdir(os\u001b[38;5;241m.\u001b[39mpath\u001b[38;5;241m.\u001b[39mjoin(directory, subdir)):\n\u001b[0;32m    117\u001b[0m             classes\u001b[38;5;241m.\u001b[39mappend(subdir)\n",
      "\u001b[1;31mValueError\u001b[0m: listdir: embedded null character in path"
     ]
    }
   ],
   "source": [
    "traingen = train_generator.flow_from_directory(X0,\n",
    "                                               target_size=(50, 50),\n",
    "                                               class_mode='categorical',\n",
    "                                               #classes=class_subset,\n",
    "                                               subset='training',\n",
    "                                               batch_size=BATCH_SIZE, \n",
    "                                               shuffle=True,\n",
    "                                               seed=42)\n"
   ]
  },
  {
   "cell_type": "code",
   "execution_count": null,
   "id": "c1355063",
   "metadata": {},
   "outputs": [],
   "source": []
  }
 ],
 "metadata": {
  "kernelspec": {
   "display_name": "Python 3 (ipykernel)",
   "language": "python",
   "name": "python3"
  },
  "language_info": {
   "codemirror_mode": {
    "name": "ipython",
    "version": 3
   },
   "file_extension": ".py",
   "mimetype": "text/x-python",
   "name": "python",
   "nbconvert_exporter": "python",
   "pygments_lexer": "ipython3",
   "version": "3.9.12"
  }
 },
 "nbformat": 4,
 "nbformat_minor": 5
}
